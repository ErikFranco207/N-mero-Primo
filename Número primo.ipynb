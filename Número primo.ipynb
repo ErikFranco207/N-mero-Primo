{
 "cells": [
  {
   "cell_type": "markdown",
   "metadata": {},
   "source": [
    "# Número primo \n",
    "Numeros naturales a excepcíon del 1 que solo son divisibles por si mismos y el 1."
   ]
  },
  {
   "cell_type": "code",
   "execution_count": 49,
   "metadata": {},
   "outputs": [
    {
     "name": "stdout",
     "output_type": "stream",
     "text": [
      "1\n",
      "23\n",
      "151\n",
      "3473\n",
      "False\n"
     ]
    }
   ],
   "source": [
    "def es_primo(num):\n",
    "    contador = 0\n",
    "    for i in range(1,num+1):\n",
    "        if num % i == 0:\n",
    "            contador += 1\n",
    "            print(i)\n",
    "    if contador == 2:\n",
    "                return True\n",
    "    else:\n",
    "                return False\n",
    "print(es_primo(3473))"
   ]
  },
  {
   "cell_type": "code",
   "execution_count": null,
   "metadata": {},
   "outputs": [],
   "source": []
  },
  {
   "cell_type": "markdown",
   "metadata": {},
   "source": [
    "Definimos la funcion con el número a comprobar, ponemos un contador=0, para un número en el rango de uno hasta el número+1, si el número del resto de la división entre 1 es igual a cero le aumentamos uno. Si el contador es igual a 2 es un número primo, si no se cumple esta condición no es un numero primo."
   ]
  },
  {
   "cell_type": "code",
   "execution_count": null,
   "metadata": {},
   "outputs": [],
   "source": []
  }
 ],
 "metadata": {
  "kernelspec": {
   "display_name": "Python 3",
   "language": "python",
   "name": "python3"
  },
  "language_info": {
   "codemirror_mode": {
    "name": "ipython",
    "version": 3
   },
   "file_extension": ".py",
   "mimetype": "text/x-python",
   "name": "python",
   "nbconvert_exporter": "python",
   "pygments_lexer": "ipython3",
   "version": "3.8.5"
  }
 },
 "nbformat": 4,
 "nbformat_minor": 4
}
